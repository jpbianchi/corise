{
 "cells": [
  {
   "cell_type": "markdown",
   "metadata": {},
   "source": [
    "# Episode 07: Way up here.\n",
    "\n",
    "### This notebook shows how you can see some basic information about all Metaflow flows that you've run. "
   ]
  },
  {
   "cell_type": "markdown",
   "metadata": {},
   "source": [
    "## Import the metaflow client"
   ]
  },
  {
   "cell_type": "code",
   "execution_count": 1,
   "metadata": {},
   "outputs": [
    {
     "name": "stdout",
     "output_type": "stream",
     "text": [
      "Current metadata provider: local@/workspace/corise\n"
     ]
    }
   ],
   "source": [
    "from metaflow import Metaflow, Flow, get_metadata, namespace\n",
    "print(\"Current metadata provider: %s\" % get_metadata())"
   ]
  },
  {
   "cell_type": "markdown",
   "metadata": {},
   "source": [
    "## List all flows with their latest completion time and status"
   ]
  },
  {
   "cell_type": "code",
   "execution_count": 2,
   "metadata": {},
   "outputs": [
    {
     "name": "stdout",
     "output_type": "stream",
     "text": [
      "HelloFlow       Last run: 2023-04-09 10:54:18.867000 Successful: True\n",
      "PlayListFlow    Last run: 2023-04-09 11:31:06.431000 Successful: True\n"
     ]
    }
   ],
   "source": [
    "# Set namespace to None to search over all namespaces\n",
    "namespace(None)\n",
    "for flow in Metaflow():\n",
    "    run = flow.latest_run\n",
    "    print(\"{:<15} Last run: {} Successful: {}\".\\\n",
    "          format(flow.id, run.finished_at, run.successful))"
   ]
  },
  {
   "cell_type": "markdown",
   "metadata": {},
   "source": [
    "## Give some detailed information on HelloAWSFlow"
   ]
  },
  {
   "cell_type": "code",
   "execution_count": 3,
   "metadata": {},
   "outputs": [
    {
     "ename": "MetaflowNotFound",
     "evalue": "Flow('HelloAWSFlow') does not exist",
     "output_type": "error",
     "traceback": [
      "\u001b[0;31m---------------------------------------------------------------------------\u001b[0m",
      "\u001b[0;31mMetaflowNotFound\u001b[0m                          Traceback (most recent call last)",
      "Cell \u001b[0;32mIn[3], line 5\u001b[0m\n\u001b[1;32m      3\u001b[0m \u001b[39m# Set namespace to None to search over all namespaces\u001b[39;00m\n\u001b[1;32m      4\u001b[0m namespace(\u001b[39mNone\u001b[39;00m)\n\u001b[0;32m----> 5\u001b[0m flow \u001b[39m=\u001b[39m Flow(\u001b[39m'\u001b[39;49m\u001b[39mHelloAWSFlow\u001b[39;49m\u001b[39m'\u001b[39;49m)\n\u001b[1;32m      6\u001b[0m runs \u001b[39m=\u001b[39m \u001b[39mlist\u001b[39m(flow\u001b[39m.\u001b[39mruns())\n\u001b[1;32m      7\u001b[0m \u001b[39mprint\u001b[39m(\u001b[39m\"\u001b[39m\u001b[39mHelloAWSFlow:\u001b[39m\u001b[39m\"\u001b[39m)\n",
      "File \u001b[0;32m/workspace/.pyenv_mirror/user/current/lib/python3.8/site-packages/metaflow/client/core.py:1691\u001b[0m, in \u001b[0;36mFlow.__init__\u001b[0;34m(self, *args, **kwargs)\u001b[0m\n\u001b[1;32m   1690\u001b[0m \u001b[39mdef\u001b[39;00m \u001b[39m__init__\u001b[39m(\u001b[39mself\u001b[39m, \u001b[39m*\u001b[39margs, \u001b[39m*\u001b[39m\u001b[39m*\u001b[39mkwargs):\n\u001b[0;32m-> 1691\u001b[0m     \u001b[39msuper\u001b[39;49m(Flow, \u001b[39mself\u001b[39;49m)\u001b[39m.\u001b[39;49m\u001b[39m__init__\u001b[39;49m(\u001b[39m*\u001b[39;49margs, \u001b[39m*\u001b[39;49m\u001b[39m*\u001b[39;49mkwargs)\n",
      "File \u001b[0;32m/workspace/.pyenv_mirror/user/current/lib/python3.8/site-packages/metaflow/client/core.py:361\u001b[0m, in \u001b[0;36mMetaflowObject.__init__\u001b[0;34m(self, pathspec, attempt, _object, _parent, _namespace_check)\u001b[0m\n\u001b[1;32m    359\u001b[0m     \u001b[39mself\u001b[39m\u001b[39m.\u001b[39mid \u001b[39m=\u001b[39m ids[\u001b[39m-\u001b[39m\u001b[39m1\u001b[39m]\n\u001b[1;32m    360\u001b[0m     \u001b[39mself\u001b[39m\u001b[39m.\u001b[39m_pathspec \u001b[39m=\u001b[39m pathspec\n\u001b[0;32m--> 361\u001b[0m     \u001b[39mself\u001b[39m\u001b[39m.\u001b[39m_object \u001b[39m=\u001b[39m \u001b[39mself\u001b[39;49m\u001b[39m.\u001b[39;49m_get_object(\u001b[39m*\u001b[39;49mids)\n\u001b[1;32m    362\u001b[0m \u001b[39melse\u001b[39;00m:\n\u001b[1;32m    363\u001b[0m     \u001b[39mself\u001b[39m\u001b[39m.\u001b[39m_object \u001b[39m=\u001b[39m _object\n",
      "File \u001b[0;32m/workspace/.pyenv_mirror/user/current/lib/python3.8/site-packages/metaflow/client/core.py:391\u001b[0m, in \u001b[0;36mMetaflowObject._get_object\u001b[0;34m(self, *path_components)\u001b[0m\n\u001b[1;32m    387\u001b[0m result \u001b[39m=\u001b[39m \u001b[39mself\u001b[39m\u001b[39m.\u001b[39m_metaflow\u001b[39m.\u001b[39mmetadata\u001b[39m.\u001b[39mget_object(\n\u001b[1;32m    388\u001b[0m     \u001b[39mself\u001b[39m\u001b[39m.\u001b[39m_NAME, \u001b[39m\"\u001b[39m\u001b[39mself\u001b[39m\u001b[39m\"\u001b[39m, \u001b[39mNone\u001b[39;00m, \u001b[39mself\u001b[39m\u001b[39m.\u001b[39m_attempt, \u001b[39m*\u001b[39mpath_components\n\u001b[1;32m    389\u001b[0m )\n\u001b[1;32m    390\u001b[0m \u001b[39mif\u001b[39;00m \u001b[39mnot\u001b[39;00m result:\n\u001b[0;32m--> 391\u001b[0m     \u001b[39mraise\u001b[39;00m MetaflowNotFound(\u001b[39m\"\u001b[39m\u001b[39m%s\u001b[39;00m\u001b[39m does not exist\u001b[39m\u001b[39m\"\u001b[39m \u001b[39m%\u001b[39m \u001b[39mself\u001b[39m)\n\u001b[1;32m    392\u001b[0m \u001b[39mreturn\u001b[39;00m result\n",
      "\u001b[0;31mMetaflowNotFound\u001b[0m: Flow('HelloAWSFlow') does not exist"
     ]
    }
   ],
   "source": [
    "import time\n",
    "\n",
    "# Set namespace to None to search over all namespaces\n",
    "namespace(None)\n",
    "flow = Flow('HelloAWSFlow')\n",
    "runs = list(flow.runs())\n",
    "print(\"HelloAWSFlow:\")\n",
    "for run in runs:\n",
    "    print(\"Run id: {}, Successful: {}\".format(run.id, run.successful))\n",
    "    print(\"Tags: {}\\n\".format(sorted(list(run.tags))))"
   ]
  }
 ],
 "metadata": {
  "kernelspec": {
   "display_name": "Python 3",
   "language": "python",
   "name": "python3"
  },
  "language_info": {
   "codemirror_mode": {
    "name": "ipython",
    "version": 3
   },
   "file_extension": ".py",
   "mimetype": "text/x-python",
   "name": "python",
   "nbconvert_exporter": "python",
   "pygments_lexer": "ipython3",
   "version": "3.8.13"
  }
 },
 "nbformat": 4,
 "nbformat_minor": 2
}
